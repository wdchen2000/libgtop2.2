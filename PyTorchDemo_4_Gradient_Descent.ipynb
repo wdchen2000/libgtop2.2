{
  "nbformat": 4,
  "nbformat_minor": 0,
  "metadata": {
    "colab": {
      "name": "PyTorchDemo 4 Gradient Descent.ipynb",
      "provenance": [],
      "collapsed_sections": [],
      "authorship_tag": "ABX9TyNA/OtG3WicXEffErX0Szgx",
      "include_colab_link": true
    },
    "kernelspec": {
      "name": "python3",
      "display_name": "Python 3"
    }
  },
  "cells": [
    {
      "cell_type": "markdown",
      "metadata": {
        "id": "view-in-github",
        "colab_type": "text"
      },
      "source": [
        "<a href=\"https://colab.research.google.com/github/wdchen2000/libgtop2.2/blob/master/PyTorchDemo_4_Gradient_Descent.ipynb\" target=\"_parent\"><img src=\"https://colab.research.google.com/assets/colab-badge.svg\" alt=\"Open In Colab\"/></a>"
      ]
    },
    {
      "cell_type": "markdown",
      "metadata": {
        "id": "QWL0t7ZN01PG",
        "colab_type": "text"
      },
      "source": [
        "Demo #4 - Linear Regression Custom modules\n",
        "\n"
      ]
    },
    {
      "cell_type": "code",
      "metadata": {
        "id": "FKYc5j9K1Bwo",
        "colab_type": "code",
        "colab": {}
      },
      "source": [
        "import torch\n",
        "import torch.nn as nn\n",
        "import matplotlib.pyplot as plt\n",
        "import numpy as np"
      ],
      "execution_count": 1,
      "outputs": []
    },
    {
      "cell_type": "code",
      "metadata": {
        "id": "YFjV7kl743Ev",
        "colab_type": "code",
        "colab": {
          "base_uri": "https://localhost:8080/",
          "height": 296
        },
        "outputId": "f97720bd-5792-487e-fbe2-896fb63df290"
      },
      "source": [
        "X = torch.randn(100, 1)*10\n",
        "y = X + 3*torch.randn(100, 1)\n",
        "plt.plot(X.numpy(), y.numpy(), 'o')\n",
        "plt.ylabel('y')\n",
        "plt.xlabel('x')\n"
      ],
      "execution_count": 2,
      "outputs": [
        {
          "output_type": "execute_result",
          "data": {
            "text/plain": [
              "Text(0.5, 0, 'x')"
            ]
          },
          "metadata": {
            "tags": []
          },
          "execution_count": 2
        },
        {
          "output_type": "display_data",
          "data": {
            "image/png": "[encoded data removed]",
            "text/plain": [
              "<Figure size 432x288 with 1 Axes>"
            ]
          },
          "metadata": {
            "tags": [],
            "needs_background": "light"
          }
        }
      ]
    },
    {
      "cell_type": "markdown",
      "metadata": {
        "id": "XNuKX7Dy9bbB",
        "colab_type": "text"
      },
      "source": [
        "Dem0 4.2 Custom Dataset"
      ]
    },
    {
      "cell_type": "code",
      "metadata": {
        "id": "7X30OCYu1K5j",
        "colab_type": "code",
        "colab": {}
      },
      "source": [
        "class LR(nn.Module):\n",
        "  def __init__(self, input_size, output_size):\n",
        "    super().__init__()\n",
        "    self.linear = nn.Linear(input_size, output_size)\n",
        "  def forward(self, x):\n",
        "    pred = self.linear(x)\n",
        "    return pred\n"
      ],
      "execution_count": 3,
      "outputs": []
    },
    {
      "cell_type": "code",
      "metadata": {
        "id": "QJuSt3Xr2FRa",
        "colab_type": "code",
        "colab": {
          "base_uri": "https://localhost:8080/",
          "height": 68
        },
        "outputId": "7e067b16-b421-4424-decb-d915dfb0ae5c"
      },
      "source": [
        "torch.manual_seed(1)\n",
        "model = LR(1, 1)\n",
        "print(model)"
      ],
      "execution_count": 4,
      "outputs": [
        {
          "output_type": "stream",
          "text": [
            "LR(\n",
            "  (linear): Linear(in_features=1, out_features=1, bias=True)\n",
            ")\n"
          ],
          "name": "stdout"
        }
      ]
    },
    {
      "cell_type": "code",
      "metadata": {
        "id": "N_F-kkrK4T4o",
        "colab_type": "code",
        "colab": {}
      },
      "source": [
        "[w, b] = model.parameters()\n",
        "def get_params():\n",
        "  return(w[0][0].item(), b[0].item())"
      ],
      "execution_count": 5,
      "outputs": []
    },
    {
      "cell_type": "code",
      "metadata": {
        "id": "A4TQipcZ9yrt",
        "colab_type": "code",
        "colab": {}
      },
      "source": [
        "def plot_fit(title):\n",
        "  plt.title = title\n",
        "  w1, b1= get_params()\n",
        "  x1 = np.array([-30, 30])\n",
        "  y1 = w1*x1 + b1\n",
        "  plt.plot(x1, y1, 'r')\n",
        "  plt.scatter(X, y)\n",
        "  plt.show()\n"
      ],
      "execution_count": 6,
      "outputs": []
    },
    {
      "cell_type": "code",
      "metadata": {
        "id": "mRaaEd6z-5QU",
        "colab_type": "code",
        "colab": {
          "base_uri": "https://localhost:8080/",
          "height": 265
        },
        "outputId": "4f2f515e-9b52-4c7e-cb2d-ead28c9b99d0"
      },
      "source": [
        "plot_fit('Initial Mode')"
      ],
      "execution_count": 7,
      "outputs": [
        {
          "output_type": "display_data",
          "data": {
            "image/png": "[encoded data removed]",
            "text/plain": [
              "<Figure size 432x288 with 1 Axes>"
            ]
          },
          "metadata": {
            "tags": [],
            "needs_background": "light"
          }
        }
      ]
    },
    {
      "cell_type": "markdown",
      "metadata": {
        "id": "f0HHtaHvFRGa",
        "colab_type": "text"
      },
      "source": [
        "Demo 4.3  Lost Function + Gradient Descent"
      ]
    },
    {
      "cell_type": "code",
      "metadata": {
        "id": "jDW02LAGa5Cs",
        "colab_type": "code",
        "colab": {}
      },
      "source": [
        "criterion = nn.MSELoss()\n",
        "optimizer = torch.optim.SGD(model.parameters(), lr = 0.01)"
      ],
      "execution_count": 8,
      "outputs": []
    },
    {
      "cell_type": "code",
      "metadata": {
        "id": "71zQRXgBbGfq",
        "colab_type": "code",
        "colab": {
          "base_uri": "https://localhost:8080/",
          "height": 1000
        },
        "outputId": "45d8aae0-4c37-4118-b697-205371b9fffa"
      },
      "source": [
        "epochs = 100\n",
        "losses = []\n",
        "for i in range(epochs):\n",
        "  y_pred = model.forward(X)\n",
        "  loss = criterion(y_pred, y)\n",
        "  print(\"Epoch:\", i, \"loss:\", loss.item())\n",
        "\n",
        "  losses.append(loss)\n",
        "  optimizer.zero_grad()\n",
        "  loss.backward()\n",
        "  optimizer.step()\n"
      ],
      "execution_count": 9,
      "outputs": [
        {
          "output_type": "stream",
          "text": [
            "Epoch: 0 loss: 28.722248077392578\n",
            "Epoch: 1 loss: 19.169544219970703\n",
            "Epoch: 2 loss: 14.251893043518066\n",
            "Epoch: 3 loss: 11.716814994812012\n",
            "Epoch: 4 loss: 10.406591415405273\n",
            "Epoch: 5 loss: 9.726194381713867\n",
            "Epoch: 6 loss: 9.369776725769043\n",
            "Epoch: 7 loss: 9.180137634277344\n",
            "Epoch: 8 loss: 9.076471328735352\n",
            "Epoch: 9 loss: 9.01723575592041\n",
            "Epoch: 10 loss: 8.981066703796387\n",
            "Epoch: 11 loss: 8.956982612609863\n",
            "Epoch: 12 loss: 8.939323425292969\n",
            "Epoch: 13 loss: 8.925172805786133\n",
            "Epoch: 14 loss: 8.913025856018066\n",
            "Epoch: 15 loss: 8.902099609375\n",
            "Epoch: 16 loss: 8.891985893249512\n",
            "Epoch: 17 loss: 8.882465362548828\n",
            "Epoch: 18 loss: 8.873420715332031\n",
            "Epoch: 19 loss: 8.864782333374023\n",
            "Epoch: 20 loss: 8.8565092086792\n",
            "Epoch: 21 loss: 8.848576545715332\n",
            "Epoch: 22 loss: 8.840960502624512\n",
            "Epoch: 23 loss: 8.833647727966309\n",
            "Epoch: 24 loss: 8.826624870300293\n",
            "Epoch: 25 loss: 8.819878578186035\n",
            "Epoch: 26 loss: 8.813397407531738\n",
            "Epoch: 27 loss: 8.807171821594238\n",
            "Epoch: 28 loss: 8.801189422607422\n",
            "Epoch: 29 loss: 8.795443534851074\n",
            "Epoch: 30 loss: 8.789923667907715\n",
            "Epoch: 31 loss: 8.784619331359863\n",
            "Epoch: 32 loss: 8.779523849487305\n",
            "Epoch: 33 loss: 8.774628639221191\n",
            "Epoch: 34 loss: 8.769925117492676\n",
            "Epoch: 35 loss: 8.76540756225586\n",
            "Epoch: 36 loss: 8.761066436767578\n",
            "Epoch: 37 loss: 8.756896018981934\n",
            "Epoch: 38 loss: 8.752889633178711\n",
            "Epoch: 39 loss: 8.749041557312012\n",
            "Epoch: 40 loss: 8.745342254638672\n",
            "Epoch: 41 loss: 8.741789817810059\n",
            "Epoch: 42 loss: 8.738377571105957\n",
            "Epoch: 43 loss: 8.735097885131836\n",
            "Epoch: 44 loss: 8.73194694519043\n",
            "Epoch: 45 loss: 8.728919982910156\n",
            "Epoch: 46 loss: 8.726014137268066\n",
            "Epoch: 47 loss: 8.723219871520996\n",
            "Epoch: 48 loss: 8.720536231994629\n",
            "Epoch: 49 loss: 8.717958450317383\n",
            "Epoch: 50 loss: 8.71548080444336\n",
            "Epoch: 51 loss: 8.713101387023926\n",
            "Epoch: 52 loss: 8.710816383361816\n",
            "Epoch: 53 loss: 8.7086181640625\n",
            "Epoch: 54 loss: 8.70650863647461\n",
            "Epoch: 55 loss: 8.704482078552246\n",
            "Epoch: 56 loss: 8.702532768249512\n",
            "Epoch: 57 loss: 8.700661659240723\n",
            "Epoch: 58 loss: 8.698863983154297\n",
            "Epoch: 59 loss: 8.697135925292969\n",
            "Epoch: 60 loss: 8.695477485656738\n",
            "Epoch: 61 loss: 8.693883895874023\n",
            "Epoch: 62 loss: 8.692353248596191\n",
            "Epoch: 63 loss: 8.690882682800293\n",
            "Epoch: 64 loss: 8.689468383789062\n",
            "Epoch: 65 loss: 8.688109397888184\n",
            "Epoch: 66 loss: 8.68680477142334\n",
            "Epoch: 67 loss: 8.685550689697266\n",
            "Epoch: 68 loss: 8.684347152709961\n",
            "Epoch: 69 loss: 8.683191299438477\n",
            "Epoch: 70 loss: 8.682079315185547\n",
            "Epoch: 71 loss: 8.681011199951172\n",
            "Epoch: 72 loss: 8.679985046386719\n",
            "Epoch: 73 loss: 8.678997993469238\n",
            "Epoch: 74 loss: 8.67805290222168\n",
            "Epoch: 75 loss: 8.677143096923828\n",
            "Epoch: 76 loss: 8.676268577575684\n",
            "Epoch: 77 loss: 8.675429344177246\n",
            "Epoch: 78 loss: 8.674623489379883\n",
            "Epoch: 79 loss: 8.673847198486328\n",
            "Epoch: 80 loss: 8.673104286193848\n",
            "Epoch: 81 loss: 8.672388076782227\n",
            "Epoch: 82 loss: 8.671701431274414\n",
            "Epoch: 83 loss: 8.671041488647461\n",
            "Epoch: 84 loss: 8.67040729522705\n",
            "Epoch: 85 loss: 8.669797897338867\n",
            "Epoch: 86 loss: 8.669212341308594\n",
            "Epoch: 87 loss: 8.668649673461914\n",
            "Epoch: 88 loss: 8.668109893798828\n",
            "Epoch: 89 loss: 8.667590141296387\n",
            "Epoch: 90 loss: 8.667091369628906\n",
            "Epoch: 91 loss: 8.66661262512207\n",
            "Epoch: 92 loss: 8.666152000427246\n",
            "Epoch: 93 loss: 8.66571044921875\n",
            "Epoch: 94 loss: 8.66528606414795\n",
            "Epoch: 95 loss: 8.664876937866211\n",
            "Epoch: 96 loss: 8.664485931396484\n",
            "Epoch: 97 loss: 8.664108276367188\n",
            "Epoch: 98 loss: 8.663744926452637\n",
            "Epoch: 99 loss: 8.663398742675781\n"
          ],
          "name": "stdout"
        }
      ]
    }
  ]
}