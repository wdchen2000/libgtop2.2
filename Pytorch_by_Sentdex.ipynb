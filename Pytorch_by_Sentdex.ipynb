{
  "nbformat": 4,
  "nbformat_minor": 0,
  "metadata": {
    "colab": {
      "name": "Pytorch by Sentdex.ipynb",
      "provenance": [],
      "authorship_tag": "ABX9TyM9VaLXUrh/PHnuJawLv9gH",
      "include_colab_link": true
    },
    "kernelspec": {
      "name": "python3",
      "display_name": "Python 3"
    }
  },
  "cells": [
    {
      "cell_type": "markdown",
      "metadata": {
        "id": "view-in-github",
        "colab_type": "text"
      },
      "source": [
        "<a href=\"https://colab.research.google.com/github/wdchen2000/libgtop2.2/blob/master/Pytorch_by_Sentdex.ipynb\" target=\"_parent\"><img src=\"https://colab.research.google.com/assets/colab-badge.svg\" alt=\"Open In Colab\"/></a>"
      ]
    },
    {
      "cell_type": "markdown",
      "metadata": {
        "id": "ewoj7hERlxaT",
        "colab_type": "text"
      },
      "source": [
        "## simple PyTorch exercise - https://www.youtube.com/watch?v=BzcBsTou0C0"
      ]
    },
    {
      "cell_type": "code",
      "metadata": {
        "id": "qFwKWXVFl7ht",
        "colab_type": "code",
        "colab": {
          "base_uri": "https://localhost:8080/",
          "height": 85
        },
        "outputId": "5fa55b2a-a62e-4ae7-99e0-94c7e3fe124c"
      },
      "source": [
        "!pip3 install torch\n",
        "import torch\n",
        "\n",
        "x = torch.Tensor([5, 30])\n",
        "y = torch.Tensor([2, 1])\n",
        "print(x*y)"
      ],
      "execution_count": 6,
      "outputs": [
        {
          "output_type": "stream",
          "text": [
            "Requirement already satisfied: torch in /usr/local/lib/python3.6/dist-packages (1.5.0+cu101)\n",
            "Requirement already satisfied: future in /usr/local/lib/python3.6/dist-packages (from torch) (0.16.0)\n",
            "Requirement already satisfied: numpy in /usr/local/lib/python3.6/dist-packages (from torch) (1.18.5)\n",
            "tensor([10., 30.])\n"
          ],
          "name": "stdout"
        }
      ]
    },
    {
      "cell_type": "code",
      "metadata": {
        "id": "b13fizWomyYS",
        "colab_type": "code",
        "colab": {
          "base_uri": "https://localhost:8080/",
          "height": 51
        },
        "outputId": "0f92045a-9fa7-4546-b920-a3904c3192ac"
      },
      "source": [
        "x = torch.zeros([2, 5])\n",
        "print(x)"
      ],
      "execution_count": 8,
      "outputs": [
        {
          "output_type": "stream",
          "text": [
            "tensor([[0., 0., 0., 0., 0.],\n",
            "        [0., 0., 0., 0., 0.]])\n"
          ],
          "name": "stdout"
        }
      ]
    },
    {
      "cell_type": "code",
      "metadata": {
        "id": "ZB-Pf3OLnFsq",
        "colab_type": "code",
        "colab": {
          "base_uri": "https://localhost:8080/",
          "height": 34
        },
        "outputId": "c91fbefb-4410-4958-ca32-45819bd3af69"
      },
      "source": [
        "x.shape"
      ],
      "execution_count": 10,
      "outputs": [
        {
          "output_type": "execute_result",
          "data": {
            "text/plain": [
              "torch.Size([2, 5])"
            ]
          },
          "metadata": {
            "tags": []
          },
          "execution_count": 10
        }
      ]
    },
    {
      "cell_type": "code",
      "metadata": {
        "id": "2-7mOZdgnPBp",
        "colab_type": "code",
        "colab": {
          "base_uri": "https://localhost:8080/",
          "height": 51
        },
        "outputId": "49f65ace-d5e7-46ab-ec84-1128f0688f45"
      },
      "source": [
        "y = torch.rand([2,5])\n",
        "print(y)"
      ],
      "execution_count": 17,
      "outputs": [
        {
          "output_type": "stream",
          "text": [
            "tensor([[0.7187, 0.3944, 0.7064, 0.1855, 0.7081],\n",
            "        [0.3979, 0.5471, 0.6278, 0.9955, 0.9419]])\n"
          ],
          "name": "stdout"
        }
      ]
    },
    {
      "cell_type": "code",
      "metadata": {
        "id": "TQKJp5URn_d4",
        "colab_type": "code",
        "colab": {
          "base_uri": "https://localhost:8080/",
          "height": 51
        },
        "outputId": "f1ff338c-ecdd-46ba-dd76-c8be6d7cc461"
      },
      "source": [
        "y"
      ],
      "execution_count": 19,
      "outputs": [
        {
          "output_type": "execute_result",
          "data": {
            "text/plain": [
              "tensor([[0.7187, 0.3944, 0.7064, 0.1855, 0.7081],\n",
              "        [0.3979, 0.5471, 0.6278, 0.9955, 0.9419]])"
            ]
          },
          "metadata": {
            "tags": []
          },
          "execution_count": 19
        }
      ]
    },
    {
      "cell_type": "code",
      "metadata": {
        "id": "CTWsinMSoDcw",
        "colab_type": "code",
        "colab": {
          "base_uri": "https://localhost:8080/",
          "height": 51
        },
        "outputId": "531fa57c-fb8e-44a0-954a-22a67264ff18"
      },
      "source": [
        "y.view([1,10])"
      ],
      "execution_count": 21,
      "outputs": [
        {
          "output_type": "execute_result",
          "data": {
            "text/plain": [
              "tensor([[0.7187, 0.3944, 0.7064, 0.1855, 0.7081, 0.3979, 0.5471, 0.6278, 0.9955,\n",
              "         0.9419]])"
            ]
          },
          "metadata": {
            "tags": []
          },
          "execution_count": 21
        }
      ]
    },
    {
      "cell_type": "code",
      "metadata": {
        "id": "9Y6Wd8vmobe5",
        "colab_type": "code",
        "colab": {
          "base_uri": "https://localhost:8080/",
          "height": 51
        },
        "outputId": "09a929e5-6a63-4a82-ba19-5808de1cf92b"
      },
      "source": [
        "y "
      ],
      "execution_count": 23,
      "outputs": [
        {
          "output_type": "execute_result",
          "data": {
            "text/plain": [
              "tensor([[0.7187, 0.3944, 0.7064, 0.1855, 0.7081],\n",
              "        [0.3979, 0.5471, 0.6278, 0.9955, 0.9419]])"
            ]
          },
          "metadata": {
            "tags": []
          },
          "execution_count": 23
        }
      ]
    },
    {
      "cell_type": "markdown",
      "metadata": {
        "id": "wHTDvVZkorn_",
        "colab_type": "text"
      },
      "source": [
        "here, we can view y[2,5] differently, say, [1,10] but y maintains its original shape, until we reshape it later\n"
      ]
    },
    {
      "cell_type": "code",
      "metadata": {
        "id": "K7e9sjRDpQKv",
        "colab_type": "code",
        "colab": {}
      },
      "source": [
        ""
      ],
      "execution_count": null,
      "outputs": []
    }
  ]
}