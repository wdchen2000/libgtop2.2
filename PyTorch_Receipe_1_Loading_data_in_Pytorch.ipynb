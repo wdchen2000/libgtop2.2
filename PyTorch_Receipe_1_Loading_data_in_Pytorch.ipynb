{
  "nbformat": 4,
  "nbformat_minor": 0,
  "metadata": {
    "colab": {
      "name": "PyTorch Receipe 1 - Loading data in Pytorch.ipynb",
      "provenance": [],
      "authorship_tag": "ABX9TyObl2pULKuakfBMWxvU6JVR",
      "include_colab_link": true
    },
    "kernelspec": {
      "name": "python3",
      "display_name": "Python 3"
    }
  },
  "cells": [
    {
      "cell_type": "markdown",
      "metadata": {
        "id": "view-in-github",
        "colab_type": "text"
      },
      "source": [
        "<a href=\"https://colab.research.google.com/github/wdchen2000/libgtop2.2/blob/master/PyTorch_Receipe_1_Loading_data_in_Pytorch.ipynb\" target=\"_parent\"><img src=\"https://colab.research.google.com/assets/colab-badge.svg\" alt=\"Open In Colab\"/></a>"
      ]
    },
    {
      "cell_type": "markdown",
      "metadata": {
        "id": "rVrh6GHVXmcB",
        "colab_type": "text"
      },
      "source": [
        "This example is from https://pytorch.org/tutorials/recipes/recipes/loading_data_recipe.html\n",
        "\n",
        "It is working - after fixing several bugs\n"
      ]
    },
    {
      "cell_type": "code",
      "metadata": {
        "id": "qzJyTIDENyBq",
        "colab_type": "code",
        "colab": {
          "base_uri": "https://localhost:8080/",
          "height": 255
        },
        "outputId": "bbbe7cf9-95bb-4907-ed82-d9d373509585"
      },
      "source": [
        "!pip3 install torch\n",
        "!pip install torchaudio"
      ],
      "execution_count": 3,
      "outputs": [
        {
          "output_type": "stream",
          "text": [
            "Collecting torchaudio\n",
            "\u001b[?25l  Downloading https://files.pythonhosted.org/packages/e9/0a/40e53c686c2af65b2a4e818d11d9b76fa79178440caf99f3ceb2a32c3b04/torchaudio-0.5.1-cp36-cp36m-manylinux1_x86_64.whl (3.2MB)\n",
            "\u001b[K     |████████████████████████████████| 3.2MB 2.9MB/s \n",
            "\u001b[?25hCollecting torch==1.5.1\n",
            "\u001b[?25l  Downloading https://files.pythonhosted.org/packages/62/01/457b49d790b6c4b9720e6f9dbbb617692f6ce8afdaadf425c055c41a7416/torch-1.5.1-cp36-cp36m-manylinux1_x86_64.whl (753.2MB)\n",
            "\u001b[K     |████████████████████████████████| 753.2MB 21kB/s \n",
            "\u001b[?25hRequirement already satisfied: numpy in /usr/local/lib/python3.6/dist-packages (from torch==1.5.1->torchaudio) (1.18.5)\n",
            "Requirement already satisfied: future in /usr/local/lib/python3.6/dist-packages (from torch==1.5.1->torchaudio) (0.16.0)\n",
            "\u001b[31mERROR: torchvision 0.6.0+cu101 has requirement torch==1.5.0, but you'll have torch 1.5.1 which is incompatible.\u001b[0m\n",
            "Installing collected packages: torch, torchaudio\n",
            "  Found existing installation: torch 1.5.0+cu101\n",
            "    Uninstalling torch-1.5.0+cu101:\n",
            "      Successfully uninstalled torch-1.5.0+cu101\n",
            "Successfully installed torch-1.5.1 torchaudio-0.5.1\n"
          ],
          "name": "stdout"
        }
      ]
    },
    {
      "cell_type": "code",
      "metadata": {
        "id": "C67w3VvBTiL3",
        "colab_type": "code",
        "colab": {
          "base_uri": "https://localhost:8080/",
          "height": 170
        },
        "outputId": "017d58b8-7691-4123-d438-6c9e71aa0644"
      },
      "source": [
        "!pip install wget"
      ],
      "execution_count": 12,
      "outputs": [
        {
          "output_type": "stream",
          "text": [
            "Collecting wget\n",
            "  Downloading https://files.pythonhosted.org/packages/47/6a/62e288da7bcda82b935ff0c6cfe542970f04e29c756b0e147251b2fb251f/wget-3.2.zip\n",
            "Building wheels for collected packages: wget\n",
            "  Building wheel for wget (setup.py) ... \u001b[?25l\u001b[?25hdone\n",
            "  Created wheel for wget: filename=wget-3.2-cp36-none-any.whl size=9682 sha256=6fcdc2b42622ac0b20899defe6f609aae7d8108a3845f9841c0ee17e9e42dbe6\n",
            "  Stored in directory: /root/.cache/pip/wheels/40/15/30/7d8f7cea2902b4db79e3fea550d7d7b85ecb27ef992b618f3f\n",
            "Successfully built wget\n",
            "Installing collected packages: wget\n",
            "Successfully installed wget-3.2\n"
          ],
          "name": "stdout"
        }
      ]
    },
    {
      "cell_type": "code",
      "metadata": {
        "id": "4AP-mOKbPVjx",
        "colab_type": "code",
        "colab": {}
      },
      "source": [
        "import torch\n",
        "import torchaudio\n",
        "import wget\n",
        "import os"
      ],
      "execution_count": 16,
      "outputs": []
    },
    {
      "cell_type": "code",
      "metadata": {
        "id": "YQU-viYsUE6R",
        "colab_type": "code",
        "colab": {
          "base_uri": "https://localhost:8080/",
          "height": 68
        },
        "outputId": "69cab791-6cb3-4925-e7ff-8c22a7e0cb6b"
      },
      "source": [
        "root = os. getcwd()\n",
        "print(\" root = \",root)\n",
        "url = 'http://www.openslr.org/resources/1/waves_yesno.tar.gz'\n",
        "filename = wget.download(url)\n",
        "print (filename)\n",
        "arr = os.listdir('.')\n",
        "print (\"listdir=\",arr)"
      ],
      "execution_count": 22,
      "outputs": [
        {
          "output_type": "stream",
          "text": [
            " root =  /content\n",
            "waves_yesno.tar (5).gz\n",
            "listdir= ['.config', 'waves_yesno.tar (5).gz', 'waves_yesno.tar.gz', 'waves_yesno.tar (4).gz', 'waves_yesno.tar (2).gz', 'waves_yesno.tar (1).gz', 'waves_yesno.tar (3).gz', 'sample_data']\n"
          ],
          "name": "stdout"
        }
      ]
    },
    {
      "cell_type": "code",
      "metadata": {
        "id": "TkMc4_zzPcDT",
        "colab_type": "code",
        "colab": {
          "base_uri": "https://localhost:8080/",
          "height": 51
        },
        "outputId": "e663c347-3c00-4bae-ffd3-69e3b598f6e2"
      },
      "source": [
        "url = 'http://www.openslr.org/resources/1/waves_yesno.tar.gz'\n",
        "filename = wget.download(url)\n",
        "print (filename)\n",
        "torchaudio.datasets.YESNO(\n",
        "  root,\n",
        "  url='http://www.openslr.org/resources/1/waves_yesno.tar.gz',\n",
        "  folder_in_archive='waves_yesno',\n",
        "  download=True,\n",
        "  transform=None,\n",
        "  target_transform=None)"
      ],
      "execution_count": 25,
      "outputs": [
        {
          "output_type": "stream",
          "text": [
            "waves_yesno.tar (8).gz\n"
          ],
          "name": "stdout"
        },
        {
          "output_type": "execute_result",
          "data": {
            "text/plain": [
              "<torchaudio.datasets.yesno.YESNO at 0x7fde0fbccda0>"
            ]
          },
          "metadata": {
            "tags": []
          },
          "execution_count": 25
        }
      ]
    },
    {
      "cell_type": "code",
      "metadata": {
        "id": "iS8QGPlzW-aq",
        "colab_type": "code",
        "colab": {
          "base_uri": "https://localhost:8080/",
          "height": 85
        },
        "outputId": "74e02461-1338-45d2-a8ee-23fd19b371f6"
      },
      "source": [
        " yesno_data_trainset = torchaudio.datasets.YESNO('./', download=True)\n",
        "# Pick data point number 3 to see an example of the the yesno_data:\n",
        "n = 3\n",
        "# wdchen - modified the following line\n",
        "waveform, sample_rate, labels = yesno_data_trainset[n]\n",
        "print(\"Waveform: {}\\nSample rate: {}\\nLabels: {}\".format(waveform, sample_rate, labels))"
      ],
      "execution_count": 28,
      "outputs": [
        {
          "output_type": "stream",
          "text": [
            "Waveform: tensor([[ 3.0518e-05,  6.1035e-05,  3.0518e-05,  ..., -1.5259e-03,\n",
            "         -2.5024e-03, -1.6479e-03]])\n",
            "Sample rate: 8000\n",
            "Labels: [0, 1, 0, 0, 0, 1, 1, 0]\n"
          ],
          "name": "stdout"
        }
      ]
    },
    {
      "cell_type": "code",
      "metadata": {
        "id": "WP-vRIdeXNap",
        "colab_type": "code",
        "colab": {
          "base_uri": "https://localhost:8080/",
          "height": 85
        },
        "outputId": "54baf474-2d69-4d3e-e3a0-c05c19bf225e"
      },
      "source": [
        "data_loader = torch.utils.data.DataLoader(yesno_data_trainset,\n",
        "                                          batch_size=1,\n",
        "                                          shuffle=True)\n",
        "for data in data_loader:\n",
        "  print(\"Data: \", data)\n",
        "  print(\"Waveform: {}\\nSample rate: {}\\nLabels: {}\".format(data[0], data[1], data[2]))\n",
        "  break\n"
      ],
      "execution_count": 29,
      "outputs": [
        {
          "output_type": "stream",
          "text": [
            "Data:  [tensor([[[ 0.0003,  0.0003,  0.0003,  ..., -0.0041, -0.0042, -0.0031]]]), tensor([8000]), [tensor([1]), tensor([1]), tensor([1]), tensor([1]), tensor([1]), tensor([0]), tensor([0]), tensor([0])]]\n",
            "Waveform: tensor([[[ 0.0003,  0.0003,  0.0003,  ..., -0.0041, -0.0042, -0.0031]]])\n",
            "Sample rate: tensor([8000])\n",
            "Labels: [tensor([1]), tensor([1]), tensor([1]), tensor([1]), tensor([1]), tensor([0]), tensor([0]), tensor([0])]\n"
          ],
          "name": "stdout"
        }
      ]
    },
    {
      "cell_type": "code",
      "metadata": {
        "id": "ez7SxRJ9XTDR",
        "colab_type": "code",
        "colab": {
          "base_uri": "https://localhost:8080/",
          "height": 316
        },
        "outputId": "3d87ae1f-346d-4bf9-9e4e-7f31f518a8ff"
      },
      "source": [
        "import matplotlib.pyplot as plt\n",
        "print(data[0][0].numpy())\n",
        "plt.figure()\n",
        "plt.plot(waveform.t().numpy())\n"
      ],
      "execution_count": 30,
      "outputs": [
        {
          "output_type": "stream",
          "text": [
            "[[ 0.00030518  0.00033569  0.00030518 ... -0.00408936 -0.00415039\n",
            "  -0.00308228]]\n"
          ],
          "name": "stdout"
        },
        {
          "output_type": "execute_result",
          "data": {
            "text/plain": [
              "[<matplotlib.lines.Line2D at 0x7fde0f730eb8>]"
            ]
          },
          "metadata": {
            "tags": []
          },
          "execution_count": 30
        },
        {
          "output_type": "display_data",
          "data": {
            "image/png": "[encoded data removed]",
            "text/plain": [
              "<Figure size 432x288 with 1 Axes>"
            ]
          },
          "metadata": {
            "tags": [],
            "needs_background": "light"
          }
        }
      ]
    }
  ]
}